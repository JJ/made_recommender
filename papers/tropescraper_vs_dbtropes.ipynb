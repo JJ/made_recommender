{
 "cells": [
  {
   "cell_type": "markdown",
   "metadata": {},
   "source": [
    "# Load the two datasets: one in dbtropes_dataset and the other in tropescraper_datasets\n",
    "\n",
    "- If you don't have access to the dbtropes file, please download it from: http://skipforward.opendfki.de/wiki/DBTropes and unzip it. Then copy the path.\n",
    "- If you don't have access to the tropescraper-generated file, please run tropescraper and copy the path.\n",
    "- Use the dbtropes_dataset and tropescraper_dataset as mappings from films to tropes: [film]->[trope_1,...,trope_n]\n",
    "- Use the dbtropes_dataset_reversed and tropescraper_dataset_reversed as mappings from films to tropes: [trope]->[film_1,...,film_n]"
   ]
  },
  {
   "cell_type": "code",
   "execution_count": 32,
   "metadata": {},
   "outputs": [],
   "source": [
    "DBTROPES_GENERATED_FILE_PATH = '/Users/phd/Downloads/dbtropes/dbtropes-20160701.nt'\n",
    "TROPESCRAPER_GENERATED_FILE_PATH = '/Users/phd/workspace/made/tropescraper/bin/tvtropes.json'\n",
    "\n",
    "DBTROPES_DATE = '20160701'\n",
    "TROPESCRAPER_DATE = '20190915'\n",
    "\n",
    "BINS = 100\n",
    "FIGURE_SIZE = [12,5]"
   ]
  },
  {
   "cell_type": "markdown",
   "metadata": {},
   "source": [
    "Useful functions"
   ]
  },
  {
   "cell_type": "code",
   "execution_count": 69,
   "metadata": {},
   "outputs": [],
   "source": [
    "import matplotlib.pyplot as plt\n",
    "from IPython.display import display, HTML\n",
    "from scipy import stats\n",
    "import pandas as pd\n",
    "from scipy import stats\n",
    "import re\n",
    "from IPython.display import clear_output\n",
    "\n",
    "def reverse_mapping(mapping):\n",
    "    reverse_map = {}\n",
    "    for key in mapping.keys():\n",
    "        for value in mapping[key]:\n",
    "            if value not in reverse_map:\n",
    "                reverse_map[value] = []\n",
    "            reverse_map[value].append(key)\n",
    "    return reverse_map\n",
    "\n",
    "def descriptive_analysis(what, dbtropes_values, tropescraper_values):\n",
    "    dbtropes_stats = stats.describe(dbtropes_values)\n",
    "    tropescraper_stats = stats.describe(tropescraper_values)\n",
    "    dataframe = pd.DataFrame.from_dict({\n",
    "        'min':[dbtropes_stats.minmax[0],tropescraper_stats.minmax[0]],\n",
    "        'max':[dbtropes_stats.minmax[1], tropescraper_stats.minmax[1]],\n",
    "        'nobs':[dbtropes_stats.nobs, tropescraper_stats.nobs],\n",
    "        'mean':[dbtropes_stats.mean, tropescraper_stats.mean],\n",
    "        'kurtosis':[dbtropes_stats.kurtosis, tropescraper_stats.kurtosis],\n",
    "        'skewness':[dbtropes_stats.skewness, tropescraper_stats.skewness],\n",
    "        'variance':[dbtropes_stats.variance, tropescraper_stats.variance]\n",
    "    }, orient='index')\n",
    "    dataframe.columns = [DBTROPES_DATE, TROPESCRAPER_DATE]\n",
    "    display(HTML(dataframe.to_html()))\n",
    "\n",
    "    values_concatenated = pd.DataFrame.from_dict({\n",
    "        DBTROPES_DATE: dbtropes_values,\n",
    "        TROPESCRAPER_DATE: tropescraper_values\n",
    "    }, orient='index')\n",
    "    values_concatenated.transpose().plot(kind='box', figsize=FIGURE_SIZE, logy=True)\n",
    "    \n",
    "    \n",
    "    dataframe = pd.DataFrame.from_dict({'values':dbtropes_values})\n",
    "    frequencies = pd.DataFrame([dataframe.iloc[:,0].value_counts()]).transpose().reset_index()\n",
    "    ax = frequencies.plot.scatter(x='index', y='values', color='Blue', label=DBTROPES_DATE, logy=True)\n",
    "    \n",
    "    dataframe = pd.DataFrame.from_dict({'values':tropescraper_values})\n",
    "    frequencies = pd.DataFrame([dataframe.iloc[:,0].value_counts()]).transpose().reset_index()\n",
    "    frequencies.plot.scatter(x='index', y='values', color='Orange', label=TROPESCRAPER_DATE, ax=ax, logy=True)"
   ]
  },
  {
   "cell_type": "markdown",
   "metadata": {},
   "source": [
    "## Load the dbtropes dataset"
   ]
  },
  {
   "cell_type": "markdown",
   "metadata": {},
   "source": [
    "Sample line in the nt file:\n",
    "\n",
    "```<http://dbtropes.org/resource/Film/MenInBlack> <http://skipforward.net/skipforward/resource/seeder/skipinions/hasFeature> <http://dbtropes.org/resource/Main/NotQuiteDead/int_c3cae421> .```"
   ]
  },
  {
   "cell_type": "code",
   "execution_count": 7,
   "metadata": {},
   "outputs": [
    {
     "name": "stdout",
     "output_type": "stream",
     "text": [
      "Summary: Lines = 21,057,602, Films count = 6,296, Tropes count = 17,738\n"
     ]
    }
   ],
   "source": [
    "template = '^<http://dbtropes.org/resource/Film/([^>]+)> <http://skipforward.net/skipforward/resource/seeder/skipinions/hasFeature> <http://dbtropes.org/resource/Main/([^/]+)/[^>/]+>.*$'\n",
    "dbtropes_dataset = {}\n",
    "dbtropes_films = set()\n",
    "dbtropes_tropes = set()\n",
    "\n",
    "with open(DBTROPES_GENERATED_FILE_PATH, 'r') as bdtropes_file:\n",
    "    line = bdtropes_file.readline()\n",
    "    counter = 1\n",
    "    while line:\n",
    "        matches = re.match(template, line)\n",
    "        if matches:\n",
    "            film = matches.group(1)\n",
    "            dbtropes_films.add(film)\n",
    "            \n",
    "            trope = matches.group(2)\n",
    "            dbtropes_tropes.add(trope)\n",
    "            \n",
    "            if film not in dbtropes_dataset:\n",
    "                dbtropes_dataset[film] = set()\n",
    "            \n",
    "            dbtropes_dataset[film].add(trope)\n",
    "            \n",
    "        line = bdtropes_file.readline()\n",
    "        counter += 1\n",
    "        \n",
    "        if counter%100000 ==0:\n",
    "            clear_output(wait = True)\n",
    "            print(f'Lines processed = {counter:,}')\n",
    "\n",
    "dbtropes_dataset_reversed = reverse_mapping(dbtropes_dataset)\n",
    "            \n",
    "clear_output(wait = True)\n",
    "print(f'Summary: Lines = {counter-1:,}, Films count = {len(dbtropes_films):,}, '\n",
    "      f'Tropes count = {len(dbtropes_tropes):,}')"
   ]
  },
  {
   "cell_type": "markdown",
   "metadata": {},
   "source": [
    "## Load the tropescraper dataset"
   ]
  },
  {
   "cell_type": "code",
   "execution_count": 8,
   "metadata": {},
   "outputs": [
    {
     "name": "stdout",
     "output_type": "stream",
     "text": [
      "Summary: Films count = 6,296, Tropes count = 17,738\n"
     ]
    }
   ],
   "source": [
    "import json\n",
    "\n",
    "tropescraper_films = set()\n",
    "tropescraper_tropes = set()\n",
    "\n",
    "with open(TROPESCRAPER_GENERATED_FILE_PATH, 'r') as tropescraper_file:\n",
    "    tropescraper_dataset = json.load(tropescraper_file)\n",
    "    \n",
    "tropescraper_films = set(dbtropes_dataset.keys())\n",
    "for key in tropescraper_films:\n",
    "    tropescraper_tropes.update(dbtropes_dataset[key])\n",
    "\n",
    "tropescraper_dataset_reversed = reverse_mapping(tropescraper_dataset)\n",
    "\n",
    "print(f'Summary: Films count = {len(tropescraper_films):,}, Tropes count = {len(tropescraper_tropes):,}')"
   ]
  },
  {
   "cell_type": "markdown",
   "metadata": {},
   "source": [
    "# Descriptive analysis of the two datasets"
   ]
  },
  {
   "cell_type": "markdown",
   "metadata": {},
   "source": [
    "## Number of Tropes"
   ]
  },
  {
   "cell_type": "code",
   "execution_count": 70,
   "metadata": {},
   "outputs": [
    {
     "data": {
      "text/html": [
       "<table border=\"1\" class=\"dataframe\">\n",
       "  <thead>\n",
       "    <tr style=\"text-align: right;\">\n",
       "      <th></th>\n",
       "      <th>20160701</th>\n",
       "      <th>20190915</th>\n",
       "    </tr>\n",
       "  </thead>\n",
       "  <tbody>\n",
       "    <tr>\n",
       "      <th>min</th>\n",
       "      <td>1.000000</td>\n",
       "      <td>0.000000</td>\n",
       "    </tr>\n",
       "    <tr>\n",
       "      <th>max</th>\n",
       "      <td>1075.000000</td>\n",
       "      <td>971.000000</td>\n",
       "    </tr>\n",
       "    <tr>\n",
       "      <th>nobs</th>\n",
       "      <td>6296.000000</td>\n",
       "      <td>12147.000000</td>\n",
       "    </tr>\n",
       "    <tr>\n",
       "      <th>mean</th>\n",
       "      <td>21.984276</td>\n",
       "      <td>54.241623</td>\n",
       "    </tr>\n",
       "    <tr>\n",
       "      <th>kurtosis</th>\n",
       "      <td>85.791847</td>\n",
       "      <td>25.459101</td>\n",
       "    </tr>\n",
       "    <tr>\n",
       "      <th>skewness</th>\n",
       "      <td>7.046124</td>\n",
       "      <td>4.143250</td>\n",
       "    </tr>\n",
       "    <tr>\n",
       "      <th>variance</th>\n",
       "      <td>2164.167346</td>\n",
       "      <td>5526.764024</td>\n",
       "    </tr>\n",
       "  </tbody>\n",
       "</table>"
      ],
      "text/plain": [
       "<IPython.core.display.HTML object>"
      ]
     },
     "metadata": {},
     "output_type": "display_data"
    },
    {
     "data": {
      "image/png": "[encoded data removed]",
      "text/plain": [
       "<Figure size 864x360 with 1 Axes>"
      ]
     },
     "metadata": {
      "needs_background": "light"
     },
     "output_type": "display_data"
    },
    {
     "data": {
      "image/png": "[encoded data removed]",
      "text/plain": [
       "<Figure size 864x360 with 1 Axes>"
      ]
     },
     "metadata": {
      "needs_background": "light"
     },
     "output_type": "display_data"
    }
   ],
   "source": [
    "dbtropes_dataset_count_by_film = {film:len(dbtropes_dataset[film]) \n",
    "                                  for film in dbtropes_dataset.keys()}\n",
    "tropescraper_dataset_count_by_film = {film:len(tropescraper_dataset[film]) \n",
    "                                      for film in tropescraper_dataset.keys()}\n",
    "\n",
    "descriptive_analysis('tropes', list(dbtropes_dataset_count_by_film.values()), \n",
    "                     list(tropescraper_dataset_count_by_film.values()))\n"
   ]
  },
  {
   "cell_type": "markdown",
   "metadata": {},
   "source": [
    "## Number of Films"
   ]
  },
  {
   "cell_type": "code",
   "execution_count": 71,
   "metadata": {},
   "outputs": [
    {
     "data": {
      "text/html": [
       "<table border=\"1\" class=\"dataframe\">\n",
       "  <thead>\n",
       "    <tr style=\"text-align: right;\">\n",
       "      <th></th>\n",
       "      <th>20160701</th>\n",
       "      <th>20190915</th>\n",
       "    </tr>\n",
       "  </thead>\n",
       "  <tbody>\n",
       "    <tr>\n",
       "      <th>min</th>\n",
       "      <td>1.000000</td>\n",
       "      <td>1.000000</td>\n",
       "    </tr>\n",
       "    <tr>\n",
       "      <th>max</th>\n",
       "      <td>480.000000</td>\n",
       "      <td>3386.000000</td>\n",
       "    </tr>\n",
       "    <tr>\n",
       "      <th>nobs</th>\n",
       "      <td>17738.000000</td>\n",
       "      <td>26479.000000</td>\n",
       "    </tr>\n",
       "    <tr>\n",
       "      <th>mean</th>\n",
       "      <td>7.803191</td>\n",
       "      <td>24.882851</td>\n",
       "    </tr>\n",
       "    <tr>\n",
       "      <th>kurtosis</th>\n",
       "      <td>274.065379</td>\n",
       "      <td>326.595978</td>\n",
       "    </tr>\n",
       "    <tr>\n",
       "      <th>skewness</th>\n",
       "      <td>10.043485</td>\n",
       "      <td>13.551122</td>\n",
       "    </tr>\n",
       "    <tr>\n",
       "      <th>variance</th>\n",
       "      <td>117.915428</td>\n",
       "      <td>6506.852353</td>\n",
       "    </tr>\n",
       "  </tbody>\n",
       "</table>"
      ],
      "text/plain": [
       "<IPython.core.display.HTML object>"
      ]
     },
     "metadata": {},
     "output_type": "display_data"
    },
    {
     "data": {
      "image/png": "[encoded data removed]",
      "text/plain": [
       "<Figure size 864x360 with 1 Axes>"
      ]
     },
     "metadata": {
      "needs_background": "light"
     },
     "output_type": "display_data"
    },
    {
     "data": {
      "image/png": "[encoded data removed]",
      "text/plain": [
       "<Figure size 864x360 with 1 Axes>"
      ]
     },
     "metadata": {
      "needs_background": "light"
     },
     "output_type": "display_data"
    }
   ],
   "source": [
    "dbtropes_dataset_count_by_trope = {trope:len(dbtropes_dataset_reversed[trope]) \n",
    "                                   for trope in dbtropes_dataset_reversed.keys()}\n",
    "tropescraper_dataset_count_by_trope = {trope:len(tropescraper_dataset_reversed[trope]) \n",
    "                                      for trope in tropescraper_dataset_reversed.keys()}\n",
    "\n",
    "descriptive_analysis('films', list(dbtropes_dataset_count_by_trope.values()), \n",
    "                     list(tropescraper_dataset_count_by_trope.values()))"
   ]
  },
  {
   "cell_type": "code",
   "execution_count": null,
   "metadata": {},
   "outputs": [],
   "source": []
  }
 ],
 "metadata": {
  "kernelspec": {
   "display_name": "Python 3",
   "language": "python",
   "name": "python3"
  },
  "language_info": {
   "codemirror_mode": {
    "name": "ipython",
    "version": 3
   },
   "file_extension": ".py",
   "mimetype": "text/x-python",
   "name": "python",
   "nbconvert_exporter": "python",
   "pygments_lexer": "ipython3",
   "version": "3.7.3"
  }
 },
 "nbformat": 4,
 "nbformat_minor": 2
}
